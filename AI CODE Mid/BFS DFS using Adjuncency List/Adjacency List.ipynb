{
 "cells": [
  {
   "cell_type": "markdown",
   "id": "6c8a55e5-f94d-44b6-9218-f581961d2d3e",
   "metadata": {},
   "source": [
    "# Represent Graph suing Adjacency List"
   ]
  },
  {
   "cell_type": "code",
   "execution_count": 1,
   "id": "48dbb7dc-e41c-4fec-a81c-c98ee1c31b8d",
   "metadata": {},
   "outputs": [
    {
     "name": "stdout",
     "output_type": "stream",
     "text": [
      "0 -> [1, 2]\n",
      "1 -> [2, 3]\n",
      "2 -> [3]\n",
      "3 -> [4]\n",
      "4 -> [0, 1, 5]\n",
      "5 -> []\n",
      "\n",
      "Adjacent nodes of 3: [4]\n",
      "Outdegree of 3: 1\n",
      "Indegree of 3: 2\n"
     ]
    }
   ],
   "source": [
    "def get_adjacent_nodes(adj_list, node):\n",
    "    return adj_list.get(node, [])\n",
    "\n",
    "def get_outdegree(adj_list, node):\n",
    "    return len(adj_list.get(node, []))\n",
    "\n",
    "def get_indegree(adj_list, node):\n",
    "    indegree_count = 0\n",
    "    for key in adj_list:\n",
    "        if node in adj_list[key]:\n",
    "            indegree_count += 1\n",
    "    return indegree_count\n",
    "\n",
    "# Read the graph from file\n",
    "with open(\"g.txt\", 'r') as f:\n",
    "    vertex_edges = f.readline().strip()\n",
    "    v_e = vertex_edges.split()\n",
    "\n",
    "    vertex = int(v_e[0])\n",
    "    edge = int(v_e[1])\n",
    "\n",
    "    adj_list = {i: [] for i in range(vertex)}\n",
    "\n",
    "    for _ in range(edge):\n",
    "        line = f.readline().strip()\n",
    "        u, v = map(int, line.split())\n",
    "        adj_list[u].append(v)  # Directed graph\n",
    "\n",
    "# Print adjacency list\n",
    "for k, v in adj_list.items():\n",
    "    print(f\"{k} -> {v}\")\n",
    "\n",
    "# Example usage\n",
    "node = 3\n",
    "print(f\"\\nAdjacent nodes of {node}: {get_adjacent_nodes(adj_list, node)}\")\n",
    "print(f\"Outdegree of {node}: {get_outdegree(adj_list, node)}\")\n",
    "print(f\"Indegree of {node}: {get_indegree(adj_list, node)}\")\n"
   ]
  },
  {
   "cell_type": "markdown",
   "id": "cafe3394-6468-4c40-a418-e0316cec1599",
   "metadata": {},
   "source": [
    "New code\n"
   ]
  },
  {
   "cell_type": "code",
   "execution_count": 5,
   "id": "3c0501ee-32d5-4d40-8c51-93a3ee81a98a",
   "metadata": {},
   "outputs": [
    {
     "name": "stdout",
     "output_type": "stream",
     "text": [
      "[\n",
      "0 -> []\n",
      "1 -> []\n",
      "2 -> []\n",
      "3 -> []\n",
      "4 -> []\n",
      "5 -> []\n",
      "]\n",
      "[\n",
      "0 -> [1, 2]\n",
      "1 -> [2, 3]\n",
      "2 -> [3]\n",
      "3 -> [4]\n",
      "4 -> [0, 1, 5]\n",
      "5 -> []\n",
      "]\n"
     ]
    }
   ],
   "source": [
    "def createMatrix(n):\n",
    "    matrix = []\n",
    "    for i in range(n):\n",
    "        matrix.append([])  # Each vertex starts with an empty adjacency list\n",
    "    return matrix\n",
    "\n",
    "def printMatrix(m):\n",
    "    print('[')\n",
    "    for i in range(len(m)):\n",
    "        print(f\"{i} -> {m[i]}\")\n",
    "    print(']')\n",
    "\n",
    "f = open(\"g.txt\", 'r')\n",
    "vertex_edges = f.readline()\n",
    "v_e = vertex_edges.split()\n",
    "vertex = int(v_e[0])\n",
    "edge = int(v_e[1])\n",
    "\n",
    "M = createMatrix(vertex)\n",
    "printMatrix(M)\n",
    "\n",
    "for i in range(edge):\n",
    "    u_v = f.readline()\n",
    "    u_v_list = u_v.split()\n",
    "    u = int(u_v_list[0])\n",
    "    v = int(u_v_list[1])\n",
    "    M[u].append(v)\n",
    "    #M[v].append(u)  # Uncomment this line for undirected graph\n",
    "\n",
    "printMatrix(M)\n"
   ]
  },
  {
   "cell_type": "markdown",
   "id": "1ed4969d-9cb0-426f-bc45-da394aeecca2",
   "metadata": {},
   "source": [
    "New New"
   ]
  },
  {
   "cell_type": "code",
   "execution_count": 16,
   "id": "84fe9cd3-0daf-4ce5-a80c-883c3379b443",
   "metadata": {},
   "outputs": [
    {
     "name": "stdout",
     "output_type": "stream",
     "text": [
      "0 -> [1, 2]\n",
      "1 -> [2, 3]\n",
      "2 -> [3]\n",
      "3 -> [4]\n",
      "4 -> [0, 1, 5]\n",
      "5 -> []\n"
     ]
    }
   ],
   "source": [
    "f = open(\"g.txt\", 'r')\n",
    "vertex_edges = f.readline()\n",
    "v_e = vertex_edges.split()\n",
    "vertex = int(v_e[0])\n",
    "edge = int(v_e[1])\n",
    "adj_list = {}\n",
    "\n",
    "for i in range(edge):\n",
    "    u_v = f.readline()\n",
    "    u_v_list = u_v.split()\n",
    "    u = int(u_v_list[0])\n",
    "    v = int(u_v_list[1])\n",
    "    \n",
    "    if u not in adj_list:\n",
    "        adj_list[u] = []\n",
    "    adj_list[u].append(v)\n",
    "\n",
    "    # For undirected graph, also add this:\n",
    "    # if v not in adj_list:\n",
    "    #     adj_list[v] = []\n",
    "    #     adj_list[v].append(u)\n",
    "\n",
    "# Ensure all vertices are printed, even those with no edges\n",
    "\n",
    "for i in range(vertex):\n",
    "    if i not in adj_list:\n",
    "        adj_list[i] = []\n",
    "\n",
    "for k, v in adj_list.items():\n",
    "    print(f\"{k} -> {v}\")\n"
   ]
  },
  {
   "cell_type": "code",
   "execution_count": 16,
   "id": "9625f268-fdf2-4eef-93a5-83bb4a8f1eff",
   "metadata": {},
   "outputs": [
    {
     "name": "stdout",
     "output_type": "stream",
     "text": [
      "0 -> [1, 2]\n",
      "1 -> [2, 3]\n",
      "2 -> [3]\n",
      "3 -> [4]\n",
      "4 -> [0, 1, 5]\n",
      "5 -> []\n"
     ]
    }
   ],
   "source": [
    "f = open(\"g.txt\", 'r')\n",
    "vertex_edges = f.readline()\n",
    "v_e = vertex_edges.split()\n",
    "vertex = int(v_e[0])\n",
    "edge = int(v_e[1])\n",
    "\n",
    "# Use defaultdict for auto-initialized list values\n",
    "adj_list = defaultdict(list)\n",
    "\n",
    "# Read edges and build the adjacency list\n",
    "for i in range(edge):\n",
    "    u_v = f.readline().split()\n",
    "    u = int(u_v[0])\n",
    "    v = int(u_v[1])\n",
    "    adj_list[u].append(v)\n",
    "    # adj_list[v].append(u)  # Uncomment this line for undirected graph\n",
    "\n",
    "# Ensure all vertices are printed, even those with no outgoing edges\n",
    "for i in range(vertex):\n",
    "    if i not in adj_list:\n",
    "        adj_list[i] = []\n",
    "\n",
    "# Print adjacency list in desired format\n",
    "for k in range(vertex):\n",
    "    print(f\"{k} -> {adj_list[k]}\")\n"
   ]
  },
  {
   "cell_type": "markdown",
   "id": "f7c43b0d-4d93-403f-ad23-3d718102abcd",
   "metadata": {},
   "source": [
    "# **Bfs Using List**"
   ]
  },
  {
   "cell_type": "code",
   "execution_count": null,
   "id": "0928b56a-2740-432d-9b4e-c8c8ff5524ef",
   "metadata": {},
   "outputs": [],
   "source": [
    "# Read graph from file\n",
    "f = open(\"g.txt\", 'r')\n",
    "vertex_edges = f.readline()\n",
    "v_e = vertex_edges.split()\n",
    "vertex = int(v_e[0])\n",
    "edge = int(v_e[1])\n",
    "\n",
    "adj_list = {}\n",
    "\n",
    "# Read edges\n",
    "for i in range(edge):\n",
    "    u_v = f.readline()\n",
    "    u_v_list = u_v.split()\n",
    "    u = int(u_v_list[0])\n",
    "    v = int(u_v_list[1])\n",
    "\n",
    "    if u not in adj_list:\n",
    "        adj_list[u] = []\n",
    "    adj_list[u].append(v)\n",
    "\n",
    "# Ensure all vertices are represented in the adjacency list\n",
    "for i in range(vertex):\n",
    "    if i not in adj_list:\n",
    "        adj_list[i] = []\n",
    "\n",
    "# Print the adjacency list for debugging\n",
    "print(\"Adjacency List:\")\n",
    "for k, v in adj_list.items():\n",
    "    print(f\"{k} -> {v}\")\n",
    "\n",
    "# ----- Simple BFS -----\n",
    "def bfs(start):\n",
    "    visited = []    # use list instead of set to keep it simple\n",
    "    queue = []      # normal list for queue\n",
    "    \n",
    "    queue.append(start)\n",
    "    visited.append(start)\n",
    "    \n",
    "    while queue:\n",
    "        node = queue.pop(0)   # pop from front\n",
    "        print(node, end=' ')\n",
    "        \n",
    "        for neighbor in adj_list[node]:\n",
    "            if neighbor not in visited:\n",
    "                queue.append(neighbor)\n",
    "                visited.append(neighbor)\n",
    "\n",
    "# Start BFS traversal from node 0\n",
    "print(\"\\nBFS Traversal starting from node 0:\")\n",
    "bfs(0)\n"
   ]
  },
  {
   "cell_type": "markdown",
   "id": "67c22700-d6cd-47eb-b92b-f2c7c1a61ec1",
   "metadata": {},
   "source": [
    "# **Dfs Using Adjacency List**"
   ]
  },
  {
   "cell_type": "code",
   "execution_count": null,
   "id": "0b6bd17f-bd24-4030-aa5c-43c9f8116725",
   "metadata": {},
   "outputs": [],
   "source": []
  },
  {
   "cell_type": "markdown",
   "id": "8bd15a9d-708a-4e9e-9a93-e97f3843e44e",
   "metadata": {},
   "source": [
    "# Tuple and List"
   ]
  },
  {
   "cell_type": "code",
   "execution_count": 14,
   "id": "68216bf0-7263-4721-bd64-7c255068b24c",
   "metadata": {},
   "outputs": [
    {
     "name": "stdout",
     "output_type": "stream",
     "text": [
      "[10, 20, 30, 40]\n",
      "[10, 20, 30, 40, 100]\n",
      "(10, 20, 30, 40)\n",
      "4\n"
     ]
    }
   ],
   "source": [
    "L=[10,20,30,40] # changeable and order\n",
    "print(L)\n",
    "L.append(100)\n",
    "print(L)\n",
    "\n",
    "t=(10,20,30,40) # unchangeable and order\n",
    "print(t)\n",
    "print(len(t))"
   ]
  },
  {
   "cell_type": "markdown",
   "id": "ed20c333-356e-4795-8384-a7baa462747d",
   "metadata": {},
   "source": [
    "# Set"
   ]
  },
  {
   "cell_type": "code",
   "execution_count": 29,
   "id": "9475afa5-8e87-47cc-9c8c-4706bd6a2c76",
   "metadata": {},
   "outputs": [
    {
     "name": "stdout",
     "output_type": "stream",
     "text": [
      "{10, 100, 20, 30}\n",
      "True\n",
      "False\n"
     ]
    }
   ],
   "source": [
    "s={10,100,20,10,20,100,30} # unchangeable, unorder and remove duplicate\n",
    "print(s)\n",
    "\n",
    "L=[10,20,30,40]\n",
    "print(10 in L)\n",
    "print(10 not in L)"
   ]
  },
  {
   "cell_type": "markdown",
   "id": "35d06be3-09c1-4f10-a217-9c90253cc861",
   "metadata": {},
   "source": [
    "# Dictionary (Key and value pair)"
   ]
  },
  {
   "cell_type": "code",
   "execution_count": 31,
   "id": "89e625fd-264d-405d-8732-e75c80478000",
   "metadata": {},
   "outputs": [
    {
     "name": "stdout",
     "output_type": "stream",
     "text": [
      "{1997: 'Richard', 2000: 'Jonathna'}\n"
     ]
    }
   ],
   "source": [
    "student={\n",
    "1997:\"Richard\",\n",
    "2000:\"Jonathna\"\n",
    "}\n",
    "print(student)"
   ]
  },
  {
   "cell_type": "code",
   "execution_count": 5,
   "id": "0ca74178-82aa-4487-b389-66795cc084d5",
   "metadata": {},
   "outputs": [
    {
     "name": "stdout",
     "output_type": "stream",
     "text": [
      "{'BMW': ['Red', 'Whute', 'Yellow'], 'Toyota': ['Red', 'White'], 'Tesla': ['White']}\n",
      "BMW\n",
      "Toyota\n",
      "Tesla\n",
      "['Red', 'Whute', 'Yellow']\n",
      "['Red', 'White']\n",
      "['White']\n",
      "Tesla ['White']\n"
     ]
    }
   ],
   "source": [
    "car={\n",
    "\"BMW\":[\"Red\",\"Whute\",\"Yellow\"],\n",
    "\"Toyota\":[\"Red\",\"White\"],\n",
    "\"Tesla\":[\"White\"]\n",
    "}\n",
    "print(car)\n",
    "\n",
    "\n",
    "for k in car.keys():\n",
    "    print(k)\n",
    "\n",
    "for v in car.values():\n",
    "    print(v)\n",
    "#print(k+\" \"+str(v))\n",
    "\n",
    "for k,v in car.items():\n",
    "    print(k+\" \"+str(v))"
   ]
  },
  {
   "cell_type": "code",
   "execution_count": null,
   "id": "ecb9d56c-483f-4cd3-a016-402522fac4fb",
   "metadata": {},
   "outputs": [],
   "source": [
    "\n"
   ]
  },
  {
   "cell_type": "code",
   "execution_count": null,
   "id": "65e1e937-9e63-4138-8997-d64515181cad",
   "metadata": {},
   "outputs": [],
   "source": []
  }
 ],
 "metadata": {
  "kernelspec": {
   "display_name": "Python 3 (ipykernel)",
   "language": "python",
   "name": "python3"
  },
  "language_info": {
   "codemirror_mode": {
    "name": "ipython",
    "version": 3
   },
   "file_extension": ".py",
   "mimetype": "text/x-python",
   "name": "python",
   "nbconvert_exporter": "python",
   "pygments_lexer": "ipython3",
   "version": "3.12.7"
  }
 },
 "nbformat": 4,
 "nbformat_minor": 5
}
