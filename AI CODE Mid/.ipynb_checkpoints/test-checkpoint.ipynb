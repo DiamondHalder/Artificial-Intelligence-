{
 "cells": [
  {
   "cell_type": "code",
   "execution_count": 1,
   "id": "8d9c6d4c-b63b-4d6c-8c5c-66e0fcd972ee",
   "metadata": {},
   "outputs": [
    {
     "name": "stdout",
     "output_type": "stream",
     "text": [
      "100\n"
     ]
    }
   ],
   "source": [
    "print (100)"
   ]
  },
  {
   "cell_type": "code",
   "execution_count": 3,
   "id": "2aeb2c4c-e58e-430e-93e7-91d928fce127",
   "metadata": {},
   "outputs": [
    {
     "name": "stdout",
     "output_type": "stream",
     "text": [
      "5\n"
     ]
    }
   ],
   "source": [
    "a = [1,2,3,4,5]\n",
    "\n",
    "print(max(a))"
   ]
  },
  {
   "cell_type": "code",
   "execution_count": 2,
   "id": "38fc11ae-7ad9-4f28-8360-c58dbc34334e",
   "metadata": {},
   "outputs": [
    {
     "name": "stdin",
     "output_type": "stream",
     "text": [
      "enter a number 23\n"
     ]
    },
    {
     "name": "stdout",
     "output_type": "stream",
     "text": [
      "The number is odd\n"
     ]
    }
   ],
   "source": [
    "a=int(input(\"enter a number\"))\n",
    "\n",
    "if a/2==0 :\n",
    "   print(\"The number is even\")\n",
    "else :\n",
    "    print(\"The number is odd\")\n",
    "    "
   ]
  },
  {
   "cell_type": "code",
   "execution_count": null,
   "id": "60bbb899-f593-4c34-9fa1-93b4988fc210",
   "metadata": {},
   "outputs": [],
   "source": []
  }
 ],
 "metadata": {
  "kernelspec": {
   "display_name": "Python 3 (ipykernel)",
   "language": "python",
   "name": "python3"
  },
  "language_info": {
   "codemirror_mode": {
    "name": "ipython",
    "version": 3
   },
   "file_extension": ".py",
   "mimetype": "text/x-python",
   "name": "python",
   "nbconvert_exporter": "python",
   "pygments_lexer": "ipython3",
   "version": "3.12.7"
  }
 },
 "nbformat": 4,
 "nbformat_minor": 5
}
