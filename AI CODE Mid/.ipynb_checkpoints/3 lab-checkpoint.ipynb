{
 "cells": [
  {
   "cell_type": "code",
   "execution_count": 2,
   "id": "ac7e8c6e-19ca-4f16-b0d4-b19b20dd9bef",
   "metadata": {},
   "outputs": [
    {
     "name": "stdout",
     "output_type": "stream",
     "text": [
      "HELLO WORLD\n"
     ]
    }
   ],
   "source": [
    "print(\"HELLO WORLD\")"
   ]
  },
  {
   "cell_type": "markdown",
   "id": "fdd33592-19ca-49c3-b0e3-4daa31c7433c",
   "metadata": {},
   "source": [
    "FUNCTION\n"
   ]
  },
  {
   "cell_type": "code",
   "execution_count": 5,
   "id": "4609c842-81fa-4c70-8984-515448903422",
   "metadata": {},
   "outputs": [
    {
     "name": "stdout",
     "output_type": "stream",
     "text": [
      "8.61\n"
     ]
    }
   ],
   "source": [
    "#f(x)=x^2+2*x\n",
    "\n",
    "def f(x) :\n",
    "    return x**2+2*x\n",
    "print(f(2.1))    "
   ]
  },
  {
   "cell_type": "code",
   "execution_count": 15,
   "id": "76c2a727-581b-4181-aa3e-ecdc084a33ab",
   "metadata": {},
   "outputs": [
    {
     "name": "stdout",
     "output_type": "stream",
     "text": [
      "welcome stwer\n"
     ]
    }
   ],
   "source": [
    "#name=input(\"Enter your name : \")  \n",
    "def printname(name):\n",
    "    print (\"welcome \"+name)  \n",
    "printname(\"stwer\")\n",
    "  \n",
    "  "
   ]
  },
  {
   "cell_type": "code",
   "execution_count": 16,
   "id": "5db91ffa-ef35-4f03-8a56-70d147a6ea45",
   "metadata": {},
   "outputs": [
    {
     "name": "stdout",
     "output_type": "stream",
     "text": [
      "8\n"
     ]
    }
   ],
   "source": [
    "def add (a,b):\n",
    "    return a+b\n",
    "\n",
    "print(add(4,4))"
   ]
  },
  {
   "cell_type": "code",
   "execution_count": 17,
   "id": "356ab46c-77cd-4497-ba34-6cc4a7f6fcca",
   "metadata": {},
   "outputs": [
    {
     "name": "stdin",
     "output_type": "stream",
     "text": [
      "Enter your name :  sfds\n"
     ]
    },
    {
     "name": "stdout",
     "output_type": "stream",
     "text": [
      "welcome sfds\n"
     ]
    }
   ],
   "source": [
    "name=input(\"Enter your name : \")  \n",
    "def printname(name):\n",
    "    return name\n",
    "\n",
    "print(\"welcome \"+name)"
   ]
  },
  {
   "cell_type": "code",
   "execution_count": 20,
   "id": "17b7a16b-5193-4c86-b044-3d51c375c172",
   "metadata": {},
   "outputs": [
    {
     "name": "stdout",
     "output_type": "stream",
     "text": [
      "10\n"
     ]
    }
   ],
   "source": [
    "def add (a=5,b=5):\n",
    "    return a+b\n",
    "\n",
    "print(add())\n"
   ]
  },
  {
   "cell_type": "markdown",
   "id": "8e70fa74-c064-449c-9f44-189d23478270",
   "metadata": {},
   "source": [
    "list"
   ]
  },
  {
   "cell_type": "code",
   "execution_count": 21,
   "id": "e3b42c73-1395-4bf3-8db9-fb564e6cecb3",
   "metadata": {},
   "outputs": [
    {
     "name": "stdout",
     "output_type": "stream",
     "text": [
      "[10, 20, 30, 40, 50]\n"
     ]
    }
   ],
   "source": [
    "list=[10,20,30,40,50]\n",
    "\n",
    "print(list)"
   ]
  },
  {
   "cell_type": "code",
   "execution_count": 26,
   "id": "358ab0ca-b641-40c7-94ab-8be1d4fe9df6",
   "metadata": {},
   "outputs": [
    {
     "name": "stdout",
     "output_type": "stream",
     "text": [
      "10\n",
      "20\n",
      "30\n",
      "40\n",
      "50\n"
     ]
    }
   ],
   "source": [
    "list = [10, 20, 30, 40, 50]\n",
    "\n",
    "for i in range(len(list)):\n",
    "    print(list[i])  \n"
   ]
  },
  {
   "cell_type": "code",
   "execution_count": 18,
   "id": "1c64b211-67e7-4d6e-8c74-f27648b43608",
   "metadata": {},
   "outputs": [
    {
     "name": "stdout",
     "output_type": "stream",
     "text": [
      "80\n",
      "55\n",
      "20\n",
      "30\n",
      "40\n",
      "50\n",
      "60\n",
      "70\n",
      "8\n"
     ]
    }
   ],
   "source": [
    "list=[10,20,30,40,50]\n",
    "list.append(60)\n",
    "list.append(70)\n",
    "#list.remove(list[0])\n",
    "list[0]=80\n",
    "list.insert(1,55)\n",
    "\n",
    "for i in range(len(list)):\n",
    "    print(list[i])\n",
    "\n",
    "print(len(list))"
   ]
  },
  {
   "cell_type": "code",
   "execution_count": 15,
   "id": "334cb299-3a5f-4168-a5a7-44ebc95dd6b0",
   "metadata": {},
   "outputs": [
    {
     "name": "stdout",
     "output_type": "stream",
     "text": [
      "[1, 1.9, 2.8, 3.6999999999999997, 4.6, 5.5, 6.4, 7.300000000000001, 8.200000000000001, 9.100000000000001]\n",
      "10\n"
     ]
    }
   ],
   "source": [
    "def linespace(l,u,n):\n",
    "    list=[]\n",
    "    del_h=(u-l)/(n)  #difference 0.9\n",
    "    list.append(l)\n",
    "    for i in range(1,n):\n",
    "        list.append(list[i-1]+del_h)\n",
    "\n",
    "    return list\n",
    "\n",
    "a=linespace(1,10,10)\n",
    "print(a)\n",
    "print(len(a))\n"
   ]
  },
  {
   "cell_type": "markdown",
   "id": "7505be75-d434-4797-b1fa-7a514e5c7b4f",
   "metadata": {},
   "source": [
    "LOOP BREAK AND CONTINUE"
   ]
  },
  {
   "cell_type": "code",
   "execution_count": null,
   "id": "bd22ba00-ac5f-4b36-a163-50bcbf85a18b",
   "metadata": {},
   "outputs": [],
   "source": []
  },
  {
   "cell_type": "code",
   "execution_count": null,
   "id": "b2ceabde-e568-4e10-8c7a-9de7bb9614f7",
   "metadata": {},
   "outputs": [],
   "source": []
  },
  {
   "cell_type": "code",
   "execution_count": null,
   "id": "cc3b4631-a78a-45a9-9e1d-6bc02d433a9e",
   "metadata": {},
   "outputs": [],
   "source": []
  }
 ],
 "metadata": {
  "kernelspec": {
   "display_name": "Python 3 (ipykernel)",
   "language": "python",
   "name": "python3"
  },
  "language_info": {
   "codemirror_mode": {
    "name": "ipython",
    "version": 3
   },
   "file_extension": ".py",
   "mimetype": "text/x-python",
   "name": "python",
   "nbconvert_exporter": "python",
   "pygments_lexer": "ipython3",
   "version": "3.12.7"
  }
 },
 "nbformat": 4,
 "nbformat_minor": 5
}
