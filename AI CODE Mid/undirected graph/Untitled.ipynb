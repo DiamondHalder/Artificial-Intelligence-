{
 "cells": [
  {
   "cell_type": "code",
   "execution_count": null,
   "id": "b5d9902b-0cb6-4a92-b9d0-6a4fdbdf4f84",
   "metadata": {},
   "outputs": [],
   "source": [
    "def createMatrix(n):\n",
    "    matrix=[]\n",
    "    for i in range(n):\n",
    "        r=[]\n",
    "        for j in range (n):\n",
    "            r.append(0)\n",
    "\n",
    "        matrix.append(r)\n",
    "    return matrix\n",
    "\n",
    "def printMatrix(m):\n",
    "    print(\"[\")\n",
    "    for r in m:\n",
    "        print(r)\n",
    "    print(\"]\")    \n",
    "\n",
    "\n",
    "f=open(\"lab4g.txt\",\"r\")\n",
    "#lab4g=f.read()\n",
    "vertex_edges=f.readline()\n",
    "v_e=vertex_edges.split()\n",
    "vertex=int(v_e[0])\n",
    "edge=int(v_e[1])\n",
    "#print(vertex)\n",
    "#print(edge)\n",
    "\n",
    "M= createMatrix(vertex)\n",
    "printMatrix(M)\n",
    "    \n",
    "for i in range(edge):\n",
    "    u_v=f.readline()\n",
    "    u_v_list= u_v.split()\n",
    "    u= int(u_v_list[0])\n",
    "    v= int(u_v_list[1])\n",
    "    M[u][v]=1\n",
    "\n",
    "print(printMatrix(M))\n"
   ]
  }
 ],
 "metadata": {
  "kernelspec": {
   "display_name": "Python 3 (ipykernel)",
   "language": "python",
   "name": "python3"
  },
  "language_info": {
   "codemirror_mode": {
    "name": "ipython",
    "version": 3
   },
   "file_extension": ".py",
   "mimetype": "text/x-python",
   "name": "python",
   "nbconvert_exporter": "python",
   "pygments_lexer": "ipython3",
   "version": "3.12.7"
  }
 },
 "nbformat": 4,
 "nbformat_minor": 5
}
