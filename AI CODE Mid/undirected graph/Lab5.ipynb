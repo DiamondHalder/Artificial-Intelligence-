{
 "cells": [
  {
   "cell_type": "code",
   "execution_count": 15,
   "id": "b5d9902b-0cb6-4a92-b9d0-6a4fdbdf4f84",
   "metadata": {},
   "outputs": [
    {
     "name": "stdout",
     "output_type": "stream",
     "text": [
      "[\n",
      "[0, 1, 1, 1, 0]\n",
      "[1, 0, 0, 1, 1]\n",
      "[1, 0, 0, 1, 0]\n",
      "[1, 1, 1, 0, 1]\n",
      "[0, 1, 0, 1, 0]\n",
      "]\n",
      "None\n",
      "Adjacent nodes of node 2: 0 3 None\n",
      "Indegree of node 2: 2\n",
      "2\n",
      "Outdegree of node 2: 2\n",
      "2\n"
     ]
    }
   ],
   "source": [
    "def createMatrix(n):\n",
    "    matrix=[]\n",
    "    for i in range(n):\n",
    "        r=[]\n",
    "        for j in range (n):\n",
    "            r.append(0)\n",
    "\n",
    "        matrix.append(r)\n",
    "    return matrix\n",
    "\n",
    "def printMatrix(m):\n",
    "    print(\"[\")\n",
    "    for r in m:\n",
    "        print(r)\n",
    "    print(\"]\")    \n",
    "\n",
    "\n",
    "f=open(\"Lab5text.txt\",\"r\")\n",
    "#lab4g=f.read()\n",
    "vertex_edges=f.readline()\n",
    "v_e=vertex_edges.split()\n",
    "vertex=int(v_e[0])\n",
    "edge=int(v_e[1])\n",
    "#print(vertex)\n",
    "#print(edge)\n",
    "\n",
    "#M= createMatrix(vertex)\n",
    "#printMatrix(M)\n",
    "    \n",
    "for i in range(edge):\n",
    "    u_v=f.readline()\n",
    "    u_v_list= u_v.split()\n",
    "    u= int(u_v_list[0])\n",
    "    v= int(u_v_list[1])\n",
    "    M[u][v]=1\n",
    "  #  M[v][u]=1\n",
    "\n",
    "print(printMatrix(M))\n",
    "\n",
    "def ajdofanynode(matrixname, node):\n",
    "    print(f\"Adjacent nodes of node {node}: \", end=\"\")\n",
    "    for i in range(len(matrixname[node])):\n",
    "        if matrixname[node][i] == 1:\n",
    "            print(i, end=\" \")\n",
    "            \n",
    "print(ajdofanynode(M,2))\n",
    "\n",
    "\n",
    "def indegree(matrix, node):\n",
    "    count = 0\n",
    "    for i in range(len(matrix)):\n",
    "        if matrix[i][node] == 1:\n",
    "            count += 1\n",
    "    print(f\"Indegree of node {node}: {count}\")\n",
    "    return count\n",
    "\n",
    "def outdegree(matrix, node):\n",
    "    count = 0\n",
    "    for i in range(len(matrix[node])):\n",
    "        if matrix[node][i] == 1:\n",
    "            count += 1\n",
    "    print(f\"Outdegree of node {node}: {count}\")\n",
    "    return count\n",
    "\n",
    "print(indegree(M,2))\n",
    "print(outdegree(M,2))"
   ]
  },
  {
   "cell_type": "code",
   "execution_count": null,
   "id": "14c6cb60-66bc-4213-b7ca-f8b73c717d72",
   "metadata": {},
   "outputs": [],
   "source": []
  },
  {
   "cell_type": "code",
   "execution_count": null,
   "id": "1d800cd9-430b-41d3-a24e-6560f2c0a268",
   "metadata": {},
   "outputs": [],
   "source": []
  },
  {
   "cell_type": "code",
   "execution_count": null,
   "id": "26d4ca2b-f006-4a3f-beb5-59878a9e20f5",
   "metadata": {},
   "outputs": [],
   "source": []
  }
 ],
 "metadata": {
  "kernelspec": {
   "display_name": "Python 3 (ipykernel)",
   "language": "python",
   "name": "python3"
  },
  "language_info": {
   "codemirror_mode": {
    "name": "ipython",
    "version": 3
   },
   "file_extension": ".py",
   "mimetype": "text/x-python",
   "name": "python",
   "nbconvert_exporter": "python",
   "pygments_lexer": "ipython3",
   "version": "3.12.7"
  }
 },
 "nbformat": 4,
 "nbformat_minor": 5
}
