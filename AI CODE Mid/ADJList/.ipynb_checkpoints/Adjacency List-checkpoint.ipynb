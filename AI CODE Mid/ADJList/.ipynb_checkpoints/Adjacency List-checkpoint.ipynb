{
 "cells": [
  {
   "cell_type": "markdown",
   "id": "6c8a55e5-f94d-44b6-9218-f581961d2d3e",
   "metadata": {},
   "source": [
    "# Represent Graph suing Adjacency List"
   ]
  },
  {
   "cell_type": "code",
   "execution_count": 5,
   "id": "48dbb7dc-e41c-4fec-a81c-c98ee1c31b8d",
   "metadata": {},
   "outputs": [
    {
     "name": "stdout",
     "output_type": "stream",
     "text": [
      "0 -> [1, 2]\n",
      "1 -> [2, 3]\n",
      "2 -> [3]\n",
      "3 -> [4]\n",
      "4 -> [0, 1, 5]\n",
      "5 -> []\n",
      "\n",
      "Adjacent nodes of 3: [4]\n",
      "Outdegree of 3: 1\n",
      "Indegree of 3: 2\n"
     ]
    }
   ],
   "source": [
    "def get_adjacent_nodes(adj_list, node):\n",
    "    return adj_list.get(node, [])\n",
    "\n",
    "def get_outdegree(adj_list, node):\n",
    "    return len(adj_list.get(node, []))\n",
    "\n",
    "def get_indegree(adj_list, node):\n",
    "    indegree_count = 0\n",
    "    for key in adj_list:\n",
    "        if node in adj_list[key]:\n",
    "            indegree_count += 1\n",
    "    return indegree_count\n",
    "\n",
    "# Read the graph from file\n",
    "with open(\"g.txt\", 'r') as f:\n",
    "    vertex_edges = f.readline().strip()\n",
    "    v_e = vertex_edges.split()\n",
    "\n",
    "    vertex = int(v_e[0])\n",
    "    edge = int(v_e[1])\n",
    "\n",
    "    adj_list = {i: [] for i in range(vertex)}\n",
    "\n",
    "    for _ in range(edge):\n",
    "        line = f.readline().strip()\n",
    "        u, v = map(int, line.split())\n",
    "        adj_list[u].append(v)  # Directed graph\n",
    "\n",
    "# Print adjacency list\n",
    "for k, v in adj_list.items():\n",
    "    print(f\"{k} -> {v}\")\n",
    "\n",
    "# Example usage\n",
    "node = 3\n",
    "print(f\"\\nAdjacent nodes of {node}: {get_adjacent_nodes(adj_list, node)}\")\n",
    "print(f\"Outdegree of {node}: {get_outdegree(adj_list, node)}\")\n",
    "print(f\"Indegree of {node}: {get_indegree(adj_list, node)}\")\n"
   ]
  },
  {
   "cell_type": "code",
   "execution_count": null,
   "id": "698aac54-347a-4e2f-ab4e-d6a04cb45454",
   "metadata": {},
   "outputs": [],
   "source": []
  },
  {
   "cell_type": "code",
   "execution_count": null,
   "id": "3c0501ee-32d5-4d40-8c51-93a3ee81a98a",
   "metadata": {},
   "outputs": [],
   "source": []
  },
  {
   "cell_type": "code",
   "execution_count": null,
   "id": "adbef744-a6f5-4aa4-9917-482bca13aeba",
   "metadata": {},
   "outputs": [],
   "source": []
  },
  {
   "cell_type": "markdown",
   "id": "8bd15a9d-708a-4e9e-9a93-e97f3843e44e",
   "metadata": {},
   "source": [
    "# Tuple and List"
   ]
  },
  {
   "cell_type": "code",
   "execution_count": 14,
   "id": "68216bf0-7263-4721-bd64-7c255068b24c",
   "metadata": {},
   "outputs": [
    {
     "name": "stdout",
     "output_type": "stream",
     "text": [
      "[10, 20, 30, 40]\n",
      "[10, 20, 30, 40, 100]\n",
      "(10, 20, 30, 40)\n",
      "4\n"
     ]
    }
   ],
   "source": [
    "L=[10,20,30,40] # changeable and order\n",
    "print(L)\n",
    "L.append(100)\n",
    "print(L)\n",
    "\n",
    "t=(10,20,30,40) # unchangeable and order\n",
    "print(t)\n",
    "print(len(t))"
   ]
  },
  {
   "cell_type": "markdown",
   "id": "ed20c333-356e-4795-8384-a7baa462747d",
   "metadata": {},
   "source": [
    "# Set"
   ]
  },
  {
   "cell_type": "code",
   "execution_count": 29,
   "id": "9475afa5-8e87-47cc-9c8c-4706bd6a2c76",
   "metadata": {},
   "outputs": [
    {
     "name": "stdout",
     "output_type": "stream",
     "text": [
      "{10, 100, 20, 30}\n",
      "True\n",
      "False\n"
     ]
    }
   ],
   "source": [
    "s={10,100,20,10,20,100,30} # unchangeable, unorder and remove duplicate\n",
    "print(s)\n",
    "\n",
    "L=[10,20,30,40]\n",
    "print(10 in L)\n",
    "print(10 not in L)"
   ]
  },
  {
   "cell_type": "markdown",
   "id": "35d06be3-09c1-4f10-a217-9c90253cc861",
   "metadata": {},
   "source": [
    "# Dictionary (Key and value pair)"
   ]
  },
  {
   "cell_type": "code",
   "execution_count": 31,
   "id": "89e625fd-264d-405d-8732-e75c80478000",
   "metadata": {},
   "outputs": [
    {
     "name": "stdout",
     "output_type": "stream",
     "text": [
      "{1997: 'Richard', 2000: 'Jonathna'}\n"
     ]
    }
   ],
   "source": [
    "student={\n",
    "1997:\"Richard\",\n",
    "2000:\"Jonathna\"\n",
    "}\n",
    "print(student)"
   ]
  },
  {
   "cell_type": "code",
   "execution_count": 39,
   "id": "0ca74178-82aa-4487-b389-66795cc084d5",
   "metadata": {},
   "outputs": [
    {
     "name": "stdout",
     "output_type": "stream",
     "text": [
      "{'BMW': ['Red', 'Whute', 'Yellow'], 'Toyota': ['Red', 'White'], 'Tesla': ['White']}\n",
      "BMW ['Red', 'Whute', 'Yellow']\n",
      "Toyota ['Red', 'White']\n",
      "Tesla ['White']\n"
     ]
    }
   ],
   "source": [
    "car={\n",
    "\"BMW\":[\"Red\",\"Whute\",\"Yellow\"],\n",
    "\"Toyota\":[\"Red\",\"White\"],\n",
    "\"Tesla\":[\"White\"]\n",
    "}\n",
    "print(car)\n",
    "\n",
    "'''\n",
    "for k in car.keys():\n",
    "    print(k)\n",
    "\n",
    "for v in car.values():\n",
    "    print(v)\n",
    "'''\n",
    "\n",
    "for k,v in car.items():\n",
    "    print(k+\" \"+str(v))"
   ]
  },
  {
   "cell_type": "code",
   "execution_count": null,
   "id": "6f5086af-f686-429f-9370-e06c14272016",
   "metadata": {},
   "outputs": [],
   "source": []
  }
 ],
 "metadata": {
  "kernelspec": {
   "display_name": "Python 3 (ipykernel)",
   "language": "python",
   "name": "python3"
  },
  "language_info": {
   "codemirror_mode": {
    "name": "ipython",
    "version": 3
   },
   "file_extension": ".py",
   "mimetype": "text/x-python",
   "name": "python",
   "nbconvert_exporter": "python",
   "pygments_lexer": "ipython3",
   "version": "3.12.7"
  }
 },
 "nbformat": 4,
 "nbformat_minor": 5
}
