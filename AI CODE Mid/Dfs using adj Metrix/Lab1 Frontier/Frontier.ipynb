{
 "cells": [
  {
   "cell_type": "markdown",
   "id": "07148486-ddb5-47da-a903-b189b7473298",
   "metadata": {},
   "source": [
    "# Stack"
   ]
  },
  {
   "cell_type": "code",
   "execution_count": 9,
   "id": "ee89ee9f-0f03-494e-b5ff-ba900ab93e7a",
   "metadata": {},
   "outputs": [
    {
     "name": "stdout",
     "output_type": "stream",
     "text": [
      "100\n"
     ]
    }
   ],
   "source": [
    "import queue\n",
    "\n",
    "\n",
    "stack=queue.LifoQueue()\n",
    "# push()=put() push in top of the stack\n",
    "# pop()=get()  pop the top element and remove\n",
    "# isEmpty()=empty()\n",
    "\n",
    "stack.put(10)\n",
    "stack.put(100)\n",
    "print(stack.get())\n",
    "\n"
   ]
  },
  {
   "cell_type": "code",
   "execution_count": 25,
   "id": "b9ff5e74-5aa4-4879-b958-ec3112fd87cd",
   "metadata": {},
   "outputs": [
    {
     "name": "stdout",
     "output_type": "stream",
     "text": [
      "2\n",
      "100\n",
      "10\n",
      "0\n"
     ]
    }
   ],
   "source": [
    "import queue\n",
    "stack=queue.LifoQueue()\n",
    "# push()=put() push in top of the stack\n",
    "# pop()=get()  pop the top element and remove\n",
    "# isEmpty()=empty()\n",
    "\n",
    "stack.put(10)\n",
    "stack.put(100)\n",
    "\n",
    "print(stack.qsize())\n",
    "\n",
    "while not stack.empty():\n",
    "    print(stack.get())\n",
    "\n",
    "print(stack.qsize())"
   ]
  },
  {
   "cell_type": "code",
   "execution_count": 29,
   "id": "4ba40566-04c7-4f5e-a965-b653bc065319",
   "metadata": {},
   "outputs": [
    {
     "name": "stdout",
     "output_type": "stream",
     "text": [
      "2\n",
      "Philip\n",
      "Richard\n",
      "0\n"
     ]
    }
   ],
   "source": [
    "import queue\n",
    "stack=queue.LifoQueue()\n",
    "# push()=put() push in top of the stack\n",
    "# pop()=get()  pop the top element and remove\n",
    "# isEmpty()=empty()\n",
    "\n",
    "stack.put('Richard')\n",
    "stack.put('Philip')\n",
    "\n",
    "print(stack.qsize())\n",
    "\n",
    "while not stack.empty():\n",
    "    print(stack.get())\n",
    "\n",
    "print(stack.qsize())"
   ]
  },
  {
   "cell_type": "markdown",
   "id": "49dbc6a7-3eb7-4e9f-bbf9-f490c503dd00",
   "metadata": {},
   "source": [
    "# Queue"
   ]
  },
  {
   "cell_type": "code",
   "execution_count": 35,
   "id": "9c6c8fce-f430-4465-8b95-d399f97525a5",
   "metadata": {},
   "outputs": [
    {
     "name": "stdout",
     "output_type": "stream",
     "text": [
      "10\n",
      "2\n"
     ]
    }
   ],
   "source": [
    "import queue\n",
    "\n",
    "q=queue.Queue()\n",
    "q.put(10) # enqueue()\n",
    "q.put(20)\n",
    "q.put(100)\n",
    "print(q.get()) # dequeue()\n",
    "print(q.qsize())"
   ]
  },
  {
   "cell_type": "code",
   "execution_count": 37,
   "id": "63f4c1aa-7b30-4ed9-a0ff-608214421ab1",
   "metadata": {},
   "outputs": [
    {
     "name": "stdout",
     "output_type": "stream",
     "text": [
      "3\n",
      "10\n",
      "20\n",
      "100\n",
      "0\n"
     ]
    }
   ],
   "source": [
    "import queue\n",
    "\n",
    "q=queue.Queue()\n",
    "q.put(10) # enqueue()\n",
    "q.put(20)\n",
    "q.put(100)\n",
    "print(q.qsize())\n",
    "\n",
    "while not q.empty():\n",
    "    print(q.get())\n",
    "\n",
    "print(q.qsize())"
   ]
  },
  {
   "cell_type": "markdown",
   "id": "e9051c1f-6913-4e6b-b43c-dff7bfe4f08b",
   "metadata": {},
   "source": [
    "# Priority Queue"
   ]
  },
  {
   "cell_type": "code",
   "execution_count": 39,
   "id": "0d87ef74-0642-49af-a2a3-d27cfb0c6651",
   "metadata": {},
   "outputs": [
    {
     "name": "stdout",
     "output_type": "stream",
     "text": [
      "1\n"
     ]
    }
   ],
   "source": [
    "import queue\n",
    "\n",
    "pq = queue.PriorityQueue()\n",
    "\n",
    "pq.put(1000)\n",
    "pq.put(100)\n",
    "pq.put(1)\n",
    "pq.put(10)\n",
    "print(pq.get())"
   ]
  },
  {
   "cell_type": "code",
   "execution_count": 49,
   "id": "42b1b6ff-5128-42a0-9699-55f66205a30c",
   "metadata": {},
   "outputs": [
    {
     "name": "stdout",
     "output_type": "stream",
     "text": [
      "B\n"
     ]
    }
   ],
   "source": [
    "import queue\n",
    "\n",
    "pq = queue.PriorityQueue()\n",
    "\n",
    "pq.put('Z')\n",
    "pq.put('B')\n",
    "\n",
    "print(pq.get())"
   ]
  },
  {
   "cell_type": "code",
   "execution_count": null,
   "id": "d54df1bc-9d59-4a56-80b5-7bbb056c13c0",
   "metadata": {},
   "outputs": [],
   "source": []
  }
 ],
 "metadata": {
  "kernelspec": {
   "display_name": "Python 3 (ipykernel)",
   "language": "python",
   "name": "python3"
  },
  "language_info": {
   "codemirror_mode": {
    "name": "ipython",
    "version": 3
   },
   "file_extension": ".py",
   "mimetype": "text/x-python",
   "name": "python",
   "nbconvert_exporter": "python",
   "pygments_lexer": "ipython3",
   "version": "3.11.7"
  }
 },
 "nbformat": 4,
 "nbformat_minor": 5
}
