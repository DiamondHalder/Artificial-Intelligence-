{
 "cells": [
  {
   "cell_type": "markdown",
   "id": "49a4f9c3-73c1-4609-8af0-f64e43495408",
   "metadata": {},
   "source": [
    "***Stack***"
   ]
  },
  {
   "cell_type": "code",
   "execution_count": 8,
   "id": "c3cda173-65d8-4560-bb40-63ea32171245",
   "metadata": {},
   "outputs": [
    {
     "name": "stdout",
     "output_type": "stream",
     "text": [
      "100\n",
      "<class 'queue.LifoQueue'>\n"
     ]
    }
   ],
   "source": [
    "import queue\n",
    "\n",
    "stack = queue.LifoQueue()\n",
    "#push()=put()   #push in top of the stack\n",
    "#pop()=get()    #pop the top elemecnt and remove\n",
    "#is empty()=empty()\n",
    "\n",
    "stack.put(10)\n",
    "stack.put(100)\n",
    "print(stack.get())\n",
    "print()"
   ]
  },
  {
   "cell_type": "code",
   "execution_count": 12,
   "id": "15d6a493-1593-4e05-9518-28e36a8191c7",
   "metadata": {},
   "outputs": [
    {
     "name": "stdout",
     "output_type": "stream",
     "text": [
      "100\n",
      "10\n",
      "0\n"
     ]
    }
   ],
   "source": [
    "import queue\n",
    "\n",
    "stack = queue.LifoQueue(maxsize=5)\n",
    "#push()=put()   #push in top of the stack\n",
    "#pop()=get()    #pop the top elemecnt and remove\n",
    "#is empty()=empty()\n",
    "\n",
    "stack.put(10)\n",
    "stack.put(100)\n",
    "#print(stack.get())\n",
    "\n",
    "\n",
    "while not stack.empty():\n",
    "    print(stack.get())\n",
    "\n",
    "print(stack.qsize())"
   ]
  },
  {
   "cell_type": "markdown",
   "id": "86b60b87-4b45-4d27-89ad-106f271339cf",
   "metadata": {},
   "source": [
    "**Queue**"
   ]
  },
  {
   "cell_type": "code",
   "execution_count": 3,
   "id": "410bbe7e-1fd9-4ced-a8cc-2da213777062",
   "metadata": {},
   "outputs": [
    {
     "name": "stdout",
     "output_type": "stream",
     "text": [
      "[10, 20, 100, 23]\n"
     ]
    }
   ],
   "source": [
    "import queue\n",
    "\n",
    "q=queue.Queue()\n",
    "q.put(10)#enqueue\n",
    "q.put(20)\n",
    "q.put(100)\n",
    "q.put(23)\n",
    "\n",
    "emptylist=[]\n",
    "while not q.empty():\n",
    "    emptylist.append(q.get())\n",
    "\n",
    "print(emptylist)    \n",
    "    \n",
    "   \n",
    "#print(q.get())#dequeue\n",
    "#print(q.qsize())"
   ]
  },
  {
   "cell_type": "markdown",
   "id": "4bc7eff8-a24b-4e21-9384-24c32a99b144",
   "metadata": {},
   "source": [
    "***Priority Queue***"
   ]
  },
  {
   "cell_type": "code",
   "execution_count": 5,
   "id": "90a6e874-7578-4b22-9862-0ffcad4cbf72",
   "metadata": {},
   "outputs": [
    {
     "name": "stdout",
     "output_type": "stream",
     "text": [
      "10\n",
      "20\n",
      "30\n",
      "40\n"
     ]
    }
   ],
   "source": [
    "import queue\n",
    "\n",
    "q=queue.PriorityQueue()\n",
    "q.put(10)\n",
    "q.put(20)\n",
    "q.put(30)\n",
    "q.put(40)\n",
    "\n",
    "#print(q.get())\n",
    "while not q.empty():\n",
    "    print(q.get())"
   ]
  },
  {
   "cell_type": "code",
   "execution_count": 6,
   "id": "7ffa8b55-ce99-47d5-9b19-42bdd098add6",
   "metadata": {},
   "outputs": [
    {
     "name": "stdout",
     "output_type": "stream",
     "text": [
      "(30, 'B')\n",
      "(40, 'A')\n",
      "(540, 'C')\n",
      "(13420, 'D')\n"
     ]
    }
   ],
   "source": [
    "import queue\n",
    "\n",
    "q=queue.PriorityQueue()\n",
    "q.put((40,'A'))\n",
    "q.put((30,'B'))\n",
    "q.put((540,'C'))\n",
    "q.put((13420,'D'))\n",
    "\n",
    "#print(q.get())\n",
    "while not q.empty():\n",
    "    print(q.get())"
   ]
  },
  {
   "cell_type": "code",
   "execution_count": null,
   "id": "e18a8a4b-3a80-4d6b-a1af-2ef4f656a6ee",
   "metadata": {},
   "outputs": [],
   "source": []
  }
 ],
 "metadata": {
  "kernelspec": {
   "display_name": "Python 3 (ipykernel)",
   "language": "python",
   "name": "python3"
  },
  "language_info": {
   "codemirror_mode": {
    "name": "ipython",
    "version": 3
   },
   "file_extension": ".py",
   "mimetype": "text/x-python",
   "name": "python",
   "nbconvert_exporter": "python",
   "pygments_lexer": "ipython3",
   "version": "3.12.7"
  }
 },
 "nbformat": 4,
 "nbformat_minor": 5
}
