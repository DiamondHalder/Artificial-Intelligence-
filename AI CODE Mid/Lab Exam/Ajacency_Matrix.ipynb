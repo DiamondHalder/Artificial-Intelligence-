{
 "cells": [
  {
   "cell_type": "code",
   "execution_count": 1,
   "id": "9748829c-778c-422e-8c3a-638210268126",
   "metadata": {},
   "outputs": [
    {
     "name": "stdout",
     "output_type": "stream",
     "text": [
      "[\n",
      "[0, 0, 0, 0, 0, 0]\n",
      "[0, 0, 0, 0, 0, 0]\n",
      "[0, 0, 0, 0, 0, 0]\n",
      "[0, 0, 0, 0, 0, 0]\n",
      "[0, 0, 0, 0, 0, 0]\n",
      "[0, 0, 0, 0, 0, 0]\n",
      "]\n",
      "[\n",
      "[0, 1, 1, 0, 0, 0]\n",
      "[0, 0, 1, 1, 0, 0]\n",
      "[0, 0, 0, 1, 0, 0]\n",
      "[0, 0, 0, 0, 1, 0]\n",
      "[1, 1, 0, 0, 0, 1]\n",
      "[0, 0, 0, 0, 0, 0]\n",
      "]\n"
     ]
    }
   ],
   "source": [
    "def createMatrix(n):\n",
    "    matrix=[]\n",
    "    for i in range(n):\n",
    "        r=[]\n",
    "        for j in range(n):\n",
    "            r.append(0)\n",
    "        matrix.append(r)\n",
    "    return matrix\n",
    "\n",
    "def printMatrix(m):\n",
    "    print('[')\n",
    "    for r in m:\n",
    "        print(r)\n",
    "    print(']')\n",
    "\n",
    "f=open(\"g.txt\",'r')\n",
    "vertex_edges=f.readline()\n",
    "v_e=vertex_edges.split()\n",
    "vertex=int(v_e[0])\n",
    "edge=int(v_e[1])\n",
    "\n",
    "M=createMatrix(vertex)\n",
    "printMatrix(M)\n",
    "\n",
    "for i in range(edge):\n",
    "    u_v=f.readline()\n",
    "    u_v_list=u_v.split()\n",
    "    u=int(u_v_list[0])\n",
    "    v=int(u_v_list[1])\n",
    "    M[u][v]=1\n",
    "    #M[v][u]=1\n",
    "\n",
    "printMatrix(M)  \n"
   ]
  },
  {
   "cell_type": "code",
   "execution_count": null,
   "id": "c0c3cd03-ad07-4fd1-9d06-3d6aff800d0c",
   "metadata": {},
   "outputs": [],
   "source": []
  }
 ],
 "metadata": {
  "kernelspec": {
   "display_name": "Python 3 (ipykernel)",
   "language": "python",
   "name": "python3"
  },
  "language_info": {
   "codemirror_mode": {
    "name": "ipython",
    "version": 3
   },
   "file_extension": ".py",
   "mimetype": "text/x-python",
   "name": "python",
   "nbconvert_exporter": "python",
   "pygments_lexer": "ipython3",
   "version": "3.12.7"
  }
 },
 "nbformat": 4,
 "nbformat_minor": 5
}
