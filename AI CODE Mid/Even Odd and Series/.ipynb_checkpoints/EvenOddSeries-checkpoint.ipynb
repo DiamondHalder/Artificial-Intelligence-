{
 "cells": [
  {
   "cell_type": "markdown",
   "id": "863d49b3-0021-4592-b702-25dd740540b6",
   "metadata": {},
   "source": [
    "# Even Numbers And Sum"
   ]
  },
  {
   "cell_type": "code",
   "execution_count": 9,
   "id": "566d0a2e-5985-4bd4-9d08-9bceb9587724",
   "metadata": {
    "scrolled": true
   },
   "outputs": [
    {
     "name": "stdout",
     "output_type": "stream",
     "text": [
      "2\n",
      "4\n",
      "6\n",
      "8\n",
      "10\n",
      "12\n",
      "14\n",
      "16\n",
      "18\n",
      "20\n",
      "Summation of the even numbers :  110\n"
     ]
    }
   ],
   "source": [
    "sum=0\n",
    "for i in range(1,21):\n",
    "    if(i%2==0):\n",
    "        print(i)\n",
    "        sum=sum+i\n",
    "\n",
    "print(\"Summation of the even numbers : \",sum)"
   ]
  },
  {
   "cell_type": "markdown",
   "id": "64515f9c-0724-4882-a853-8514b547a01e",
   "metadata": {},
   "source": [
    "# Odd Numbers And Sum"
   ]
  },
  {
   "cell_type": "code",
   "execution_count": 11,
   "id": "83490af2-32f5-4222-8e64-e3d005706144",
   "metadata": {
    "scrolled": true
   },
   "outputs": [
    {
     "name": "stdout",
     "output_type": "stream",
     "text": [
      "1\n",
      "3\n",
      "5\n",
      "7\n",
      "9\n",
      "11\n",
      "13\n",
      "15\n",
      "17\n",
      "19\n",
      "Summation of the even numbers :  100\n"
     ]
    }
   ],
   "source": [
    "sum=0\n",
    "for i in range(1,21):\n",
    "    if(i%2!=0):\n",
    "        print(i)\n",
    "        sum=sum+i\n",
    "\n",
    "print(\"Summation of the even numbers : \",sum)"
   ]
  },
  {
   "cell_type": "markdown",
   "id": "6e01e4c9-aff9-4450-b580-436b40cc9797",
   "metadata": {},
   "source": [
    "# Series"
   ]
  },
  {
   "cell_type": "code",
   "execution_count": 27,
   "id": "b0604c17-bda2-454b-88e6-16c9e40a9709",
   "metadata": {},
   "outputs": [
    {
     "name": "stdin",
     "output_type": "stream",
     "text": [
      "Enter Number of Terms:  3\n"
     ]
    },
    {
     "name": "stdout",
     "output_type": "stream",
     "text": [
      "1 + 11 + 111\n",
      "The Total Sum:  123\n"
     ]
    }
   ],
   "source": [
    "terms=int(input(\"Enter Number of Terms: \"))\n",
    "sum=0\n",
    "term=0\n",
    "series=\"\"\n",
    "for i in range(1,terms+1):\n",
    "    term=term*10+1\n",
    "    sum=sum + int(term)\n",
    "    series =series + str(term)\n",
    "    if i < terms:\n",
    "        series = series + \" + \"\n",
    "    \n",
    "    \n",
    "print(series)\n",
    "print(\"The Total Sum: \",sum)\n",
    "    "
   ]
  },
  {
   "cell_type": "code",
   "execution_count": 28,
   "id": "016de278-c11d-4c64-a671-6b6a6742bc00",
   "metadata": {},
   "outputs": [
    {
     "name": "stdin",
     "output_type": "stream",
     "text": [
      "Enter Number of Terms:  3\n"
     ]
    },
    {
     "name": "stdout",
     "output_type": "stream",
     "text": [
      "1 + 11 + 111\n",
      "The Total Sum: 123\n"
     ]
    }
   ],
   "source": [
    "terms = int(input(\"Enter Number of Terms: \"))\n",
    "sum = 0\n",
    "term = 0\n",
    "series_list = []\n",
    "\n",
    "for i in range(1, terms + 1):\n",
    "    term = term * 10 + 1\n",
    "    sum += term\n",
    "    series_list.append(str(term))  \n",
    "\n",
    "print(\" + \".join(series_list))     \n",
    "print(\"The Total Sum:\", sum)       \n"
   ]
  },
  {
   "cell_type": "code",
   "execution_count": null,
   "id": "856c0a01-a9ac-4378-b1b9-8f1e12aac23f",
   "metadata": {},
   "outputs": [],
   "source": []
  }
 ],
 "metadata": {
  "kernelspec": {
   "display_name": "Python 3 (ipykernel)",
   "language": "python",
   "name": "python3"
  },
  "language_info": {
   "codemirror_mode": {
    "name": "ipython",
    "version": 3
   },
   "file_extension": ".py",
   "mimetype": "text/x-python",
   "name": "python",
   "nbconvert_exporter": "python",
   "pygments_lexer": "ipython3",
   "version": "3.12.7"
  }
 },
 "nbformat": 4,
 "nbformat_minor": 5
}
