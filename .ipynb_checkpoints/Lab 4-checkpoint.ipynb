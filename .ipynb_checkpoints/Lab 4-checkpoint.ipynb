{
 "cells": [
  {
   "cell_type": "markdown",
   "id": "2d7fa85d-2572-4f7f-899d-c1383be70692",
   "metadata": {},
   "source": [
    "Graph Representation using Adjacency Matrix"
   ]
  },
  {
   "cell_type": "code",
   "execution_count": 31,
   "id": "34e11723-51e2-4cdd-bc81-55ac15e69b44",
   "metadata": {},
   "outputs": [
    {
     "name": "stdout",
     "output_type": "stream",
     "text": [
      "[\n",
      "[0, 0, 0, 0, 0, 0]\n",
      "[0, 0, 0, 0, 0, 0]\n",
      "[0, 0, 0, 0, 0, 0]\n",
      "[0, 0, 0, 0, 0, 0]\n",
      "[0, 0, 0, 0, 0, 0]\n",
      "[0, 0, 0, 0, 0, 0]\n",
      "]\n",
      "[\n",
      "[0, 1, 1, 0, 0, 0]\n",
      "[0, 0, 1, 1, 0, 0]\n",
      "[0, 0, 0, 1, 0, 0]\n",
      "[0, 0, 0, 0, 1, 0]\n",
      "[1, 1, 0, 0, 0, 1]\n",
      "[0, 0, 0, 0, 0, 0]\n",
      "]\n",
      "None\n"
     ]
    }
   ],
   "source": [
    "def createMatrix(n):\n",
    "    matrix=[]\n",
    "    for i in range(n):\n",
    "        r=[]\n",
    "        for j in range (n):\n",
    "            r.append(0)\n",
    "\n",
    "        matrix.append(r)\n",
    "    return matrix\n",
    "\n",
    "def printMatrix(m):\n",
    "    print(\"[\")\n",
    "    for r in m:\n",
    "        print(r)\n",
    "    print(\"]\")    \n",
    "\n",
    "\n",
    "f=open(\"lab4g.txt\",\"r\")\n",
    "#lab4g=f.read()\n",
    "vertex_edges=f.readline()\n",
    "v_e=vertex_edges.split()\n",
    "vertex=int(v_e[0])\n",
    "edge=int(v_e[1])\n",
    "#print(vertex)\n",
    "#print(edge)\n",
    "\n",
    "M= createMatrix(vertex)\n",
    "printMatrix(M)\n",
    "    \n",
    "for i in range(edge):\n",
    "    u_v=f.readline()\n",
    "    u_v_list= u_v.split()\n",
    "    u= int(u_v_list[0])\n",
    "    v= int(u_v_list[1])\n",
    "    M[u][v]=1\n",
    "\n",
    "print(printMatrix(M))\n",
    "\n"
   ]
  },
  {
   "cell_type": "code",
   "execution_count": 19,
   "id": "cdd6745e-c3c9-4067-bf14-f7cb455b4388",
   "metadata": {},
   "outputs": [
    {
     "name": "stdout",
     "output_type": "stream",
     "text": [
      "[1, 2, 3]\n",
      "[4, 5, 6]\n"
     ]
    }
   ],
   "source": [
    "#2x3\n",
    "matrix=[\n",
    "    [1,2,3],\n",
    "    [4,5,6]\n",
    "]\n",
    "for r in matrix:\n",
    "    print(r)\n",
    "    print(len(matrix),end=\"x\")"
   ]
  },
  {
   "cell_type": "markdown",
   "id": "721a5f80-9360-41f2-84a0-2b514e480e66",
   "metadata": {},
   "source": [
    "File Write\n"
   ]
  },
  {
   "cell_type": "code",
   "execution_count": 4,
   "id": "4dc98c54-1cc7-40fe-8666-5813776c4629",
   "metadata": {},
   "outputs": [],
   "source": [
    "f = open (\"Hello.txt\",\"w\")\n",
    "f.write (\"I love Python\\n\")\n",
    "f.write (\"I love Bangladesh.\\n\")\n",
    "f.close()"
   ]
  },
  {
   "cell_type": "code",
   "execution_count": 5,
   "id": "f3cadc3c-2f68-4b2c-a1a2-2b1c58ddc3ed",
   "metadata": {},
   "outputs": [],
   "source": [
    "f = open (\"Hello.txt\",\"a\")\n",
    "f.write(\"I love C++\")\n",
    "f.close()"
   ]
  },
  {
   "cell_type": "code",
   "execution_count": 6,
   "id": "257f101f-c207-4676-94b8-72b50fecf739",
   "metadata": {},
   "outputs": [
    {
     "name": "stdout",
     "output_type": "stream",
     "text": [
      "I love Python\n",
      "I love Bangladesh.\n",
      "I love C++\n"
     ]
    }
   ],
   "source": [
    "f= open (\"Hello.txt\",\"r\")\n",
    "filecontent=f.read()\n",
    "print(filecontent)"
   ]
  },
  {
   "cell_type": "code",
   "execution_count": 7,
   "id": "da1cf35d-46ab-4881-a67e-d1bb1b4395aa",
   "metadata": {},
   "outputs": [
    {
     "name": "stdout",
     "output_type": "stream",
     "text": [
      "['I', 'love', 'Python', 'I', 'love', 'Bangladesh.', 'I', 'love', 'C++']\n"
     ]
    }
   ],
   "source": [
    "f=open(\"Hello.txt\",\"r\")\n",
    "fc=f.read()\n",
    "list1=fc.split()\n",
    "print(list1)"
   ]
  },
  {
   "cell_type": "code",
   "execution_count": 13,
   "id": "04d4da93-ecab-4df9-928e-1493e54c7b7f",
   "metadata": {},
   "outputs": [],
   "source": [
    "f=open(\"lab4g.txt\", \"r\")\n",
    "lab4g=f.read()\n",
    "#vertex_edges=f.readline()\n",
    "#print(vertex_edges)"
   ]
  },
  {
   "cell_type": "code",
   "execution_count": 28,
   "id": "f4d4bb6c-1f72-4e3c-aa11-a925342e5864",
   "metadata": {},
   "outputs": [
    {
     "name": "stdout",
     "output_type": "stream",
     "text": [
      "6 9\n",
      "0 1\n",
      "0 2\n",
      "1 2\n",
      "1 3\n",
      "2 3\n",
      "3 4\n",
      "4 0\n",
      "4 1\n",
      "4 5\n"
     ]
    }
   ],
   "source": [
    "f=open(\"lab4g.txt\",\"r\")\n",
    "lab4g=f.read()\n",
    "print(lab4g)\n"
   ]
  },
  {
   "cell_type": "code",
   "execution_count": 17,
   "id": "20c753cf-031b-420f-b39a-fe3466cdfea0",
   "metadata": {},
   "outputs": [],
   "source": [
    "\n"
   ]
  },
  {
   "cell_type": "code",
   "execution_count": 14,
   "id": "3f3a70d4-c7e6-4a31-898d-4b021b3e0681",
   "metadata": {},
   "outputs": [
    {
     "name": "stdout",
     "output_type": "stream",
     "text": [
      "6\n",
      "9\n"
     ]
    }
   ],
   "source": [
    "f=open(\"lab4g.txt\",\"r\")\n",
    "#lab4g=f.read()\n",
    "vertex_edges=f.readline()\n",
    "v_e=vertex_edges.split()\n",
    "vertex=int(v_e[0])\n",
    "edge=int(v_e[1])\n",
    "print(vertex)\n",
    "print(edge)\n"
   ]
  },
  {
   "cell_type": "code",
   "execution_count": null,
   "id": "a6cf32b8-4d30-439c-b02a-051c94714864",
   "metadata": {},
   "outputs": [],
   "source": []
  },
  {
   "cell_type": "markdown",
   "id": "ae9ba051-dc5f-4148-acc3-31208c481600",
   "metadata": {},
   "source": [
    "Graph Representation with Adjacency List"
   ]
  },
  {
   "cell_type": "code",
   "execution_count": null,
   "id": "c6c1d98c-4166-43a0-898d-a84908757dde",
   "metadata": {},
   "outputs": [],
   "source": []
  },
  {
   "cell_type": "code",
   "execution_count": null,
   "id": "bb906d81-9760-4ba0-bdfc-c287f9870f5f",
   "metadata": {},
   "outputs": [],
   "source": []
  }
 ],
 "metadata": {
  "kernelspec": {
   "display_name": "Python 3 (ipykernel)",
   "language": "python",
   "name": "python3"
  },
  "language_info": {
   "codemirror_mode": {
    "name": "ipython",
    "version": 3
   },
   "file_extension": ".py",
   "mimetype": "text/x-python",
   "name": "python",
   "nbconvert_exporter": "python",
   "pygments_lexer": "ipython3",
   "version": "3.12.7"
  }
 },
 "nbformat": 4,
 "nbformat_minor": 5
}
